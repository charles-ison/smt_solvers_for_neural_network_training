{
 "cells": [
  {
   "cell_type": "code",
   "execution_count": 1,
   "id": "64dd2c65-4e37-4dc8-b93e-0bee5546c533",
   "metadata": {},
   "outputs": [],
   "source": [
    "import time\n",
    "import torch\n",
    "import torch.nn as nn\n",
    "import matplotlib.pyplot as plt\n",
    "from pysmt.shortcuts import Symbol, And, Equals, Real, GT, Max, Plus, get_model\n",
    "from pysmt.typing import REAL"
   ]
  },
  {
   "cell_type": "code",
   "execution_count": 2,
   "id": "663340c8-ca5f-45f9-aa03-80bb4c7483d1",
   "metadata": {},
   "outputs": [],
   "source": [
    "class Model(nn.Module):\n",
    "    def __init__(self, embedding_size):\n",
    "        super(Model, self).__init__()             \n",
    "        self.linear0 = nn.Linear(3, embedding_size)\n",
    "        self.linear1 = nn.Linear(embedding_size, 1)\n",
    "        self.linear_layers = [self.linear0, self.linear1]\n",
    "        self.relu = nn.ReLU()\n",
    "        \n",
    "    def forward(self, x):   \n",
    "        x = self.linear0(x)\n",
    "        x = self.relu(x)  \n",
    "        \n",
    "        x = self.linear1(x)\n",
    "        \n",
    "        return x[0]"
   ]
  },
  {
   "cell_type": "code",
   "execution_count": 3,
   "id": "f56893e4",
   "metadata": {},
   "outputs": [],
   "source": [
    "def train_backpropagation(model, all_data, labels, criterion, optimizer, num_epochs):\n",
    "    model.train()\n",
    "    \n",
    "    for epoch in range(num_epochs):\n",
    "        running_loss = 0.0\n",
    "        num_correct = 0\n",
    "    \n",
    "        for (data, label) in zip(all_data, labels): \n",
    "            optimizer.zero_grad()\n",
    "        \n",
    "            output = model(data)\n",
    "            prediction = 1 if output > 0 else 0\n",
    "\n",
    "            loss = criterion(output, label)\n",
    "            num_correct += (label == prediction)\n",
    "        \n",
    "            running_loss += loss.item()\n",
    "            loss.backward()\n",
    "            optimizer.step()\n",
    "\n",
    "        loss = running_loss/len(labels)\n",
    "        accuracy = num_correct/len(labels)\n",
    "        print(\"epoch: \" + str(epoch) + \", accuracy: \" + str(accuracy.item()) + \", loss: \" + str(loss))\n",
    "        \n",
    "        if (accuracy == 1.0):\n",
    "            return"
   ]
  },
  {
   "cell_type": "code",
   "execution_count": 4,
   "id": "460c9e1e",
   "metadata": {},
   "outputs": [],
   "source": [
    "def train_smt(model, all_data, labels):\n",
    "    \n",
    "    layers_weights = []\n",
    "    num_layers = len(model.linear_layers)\n",
    "    for i in range(num_layers):\n",
    "        num_rows = len(model.linear_layers[i].weight.data)\n",
    "        num_cols = len(model.linear_layers[i].weight.data[0])\n",
    "        layer_weights = []\n",
    "        for j in range(num_rows):\n",
    "            weights = []\n",
    "            for k in range(num_cols):\n",
    "                weights.append(Symbol(\"weight_\" + str(i) + \"_\" + str(j) + \"_\" + str(k), REAL))\n",
    "            weights.append(Symbol(str(\"bias_\" + str(i) + \"_\" + str(j)), REAL))\n",
    "            layer_weights.append(weights)\n",
    "        layers_weights.append(layer_weights)\n",
    "\n",
    "    equations = []\n",
    "    for (data, label) in zip(all_data, labels):\n",
    "        x = []\n",
    "        for value in data:\n",
    "            x.append(Real(value.item()))\n",
    "            \n",
    "        for i in range(num_layers):\n",
    "            num_rows = len(model.linear_layers[i].weight.data)\n",
    "            num_cols = len(model.linear_layers[i].weight.data[0])\n",
    "            new_x = []\n",
    "            for j in range(num_rows):\n",
    "                calculations = []\n",
    "                for k in range(num_cols):\n",
    "                    calculation = layers_weights[i][j][k] * x[k]\n",
    "                    calculations.append(calculation)\n",
    "                calculations.append(layers_weights[i][j][num_cols])\n",
    "                output = Plus(calculations)\n",
    "                if i < num_layers-1:\n",
    "                    output = Max(output, Real(0.0))\n",
    "                new_x.append(output)\n",
    "            x = new_x\n",
    "    \n",
    "        if label.item() == 0.0:\n",
    "            equation = Equals(x[0], Real(0.0))\n",
    "        else:\n",
    "            equation = GT(x[0], Real(0.0))\n",
    "            \n",
    "        equations.append(equation)\n",
    "\n",
    "    formula = And(equations)\n",
    "    solution = get_model(formula)\n",
    "    \n",
    "    if solution:\n",
    "        for i in range(num_layers):\n",
    "            num_rows = len(model.linear_layers[i].weight.data)\n",
    "            num_cols = len(model.linear_layers[i].weight.data[0])\n",
    "            for j in range(num_rows):\n",
    "                for k in range(num_cols):\n",
    "                    weight = layers_weights[i][j][k]\n",
    "                    weight_solution = solution[weight].constant_value()\n",
    "                    model.linear_layers[i].weight.data[j][k] = float(weight_solution)\n",
    "    \n",
    "                \n",
    "                bias = layers_weights[i][j][num_cols]\n",
    "                bias_solution = solution[bias].constant_value()\n",
    "                model.linear_layers[i].bias.data[j] = float(bias_solution)\n",
    "\n",
    "    else:\n",
    "        print(\"No solution found\")"
   ]
  },
  {
   "cell_type": "code",
   "execution_count": 5,
   "id": "b2a498e5",
   "metadata": {},
   "outputs": [],
   "source": [
    "def test(model, all_data, labels, criterion): \n",
    "    running_loss = 0.0\n",
    "    num_correct = 0\n",
    "    \n",
    "    for (data, label) in zip(all_data, labels): \n",
    "        output = model(data)\n",
    "        prediction = 1 if output > 0 else 0\n",
    "\n",
    "        loss = criterion(output, label)\n",
    "        num_correct += (label == prediction)\n",
    "        \n",
    "        running_loss += loss.item()\n",
    "\n",
    "    loss = running_loss/len(labels)\n",
    "    accuracy = num_correct/len(labels)\n",
    "    \n",
    "    print(\"testing accuracy: \" + str(accuracy.item()) + \" and loss: \" + str(loss))"
   ]
  },
  {
   "cell_type": "code",
   "execution_count": 10,
   "id": "3851b7bc-a254-4ce2-ac88-bbe5bfdce954",
   "metadata": {},
   "outputs": [],
   "source": [
    "device = torch.device('cuda' if torch.cuda.is_available() else 'cpu')\n",
    "\n",
    "points = torch.tensor([[-1.0, -1.0, -1.0], [1.0, -1.0, -1.0], [-1.0, 1.0, -1.0], [-1.0, -1.0, 1.0],\n",
    "                       [1.0, 1.0, 1.0], [-1.0, 1.0, 1.0], [1.0, -1.0, 1.0], [1.0, 1.0, -1.0],])\n",
    "\n",
    "labels = torch.tensor([0.0, 1.0, 0.0, 0.0, 1.0, 0.0, 1.0, 1.0], requires_grad=True)\n",
    "\n",
    "#TODO: use cross entropy\n",
    "criterion = nn.BCEWithLogitsLoss()\n",
    "num_epochs = 1000"
   ]
  },
  {
   "cell_type": "code",
   "execution_count": 11,
   "id": "4abcfc74-b773-4876-a915-a11a28e34a9d",
   "metadata": {},
   "outputs": [
    {
     "name": "stdout",
     "output_type": "stream",
     "text": [
      "embedding_size:  20\n",
      "epoch: 0, accuracy: 0.25, loss: 0.8198045343160629\n",
      "epoch: 1, accuracy: 0.375, loss: 0.7171641066670418\n",
      "epoch: 2, accuracy: 0.625, loss: 0.6420148834586143\n",
      "epoch: 3, accuracy: 0.625, loss: 0.5736764222383499\n",
      "epoch: 4, accuracy: 0.875, loss: 0.505476251244545\n",
      "epoch: 5, accuracy: 1.0, loss: 0.4380674809217453\n",
      "testing accuracy: 1.0 and loss: 0.4462390876803052\n",
      "embedding_size:  40\n",
      "epoch: 0, accuracy: 0.75, loss: 0.5829505436122417\n",
      "epoch: 1, accuracy: 1.0, loss: 0.37375959008932114\n",
      "testing accuracy: 1.0 and loss: 0.3473854020817271\n",
      "embedding_size:  60\n",
      "epoch: 0, accuracy: 0.5, loss: 0.6916396208107471\n",
      "epoch: 1, accuracy: 1.0, loss: 0.3768772967159748\n",
      "testing accuracy: 0.875 and loss: 0.40408675762509105\n",
      "embedding_size:  80\n",
      "epoch: 0, accuracy: 0.75, loss: 0.6585815735161304\n",
      "epoch: 1, accuracy: 1.0, loss: 0.2952108606696129\n",
      "testing accuracy: 1.0 and loss: 0.3797453932243684\n",
      "embedding_size:  100\n",
      "epoch: 0, accuracy: 0.625, loss: 0.6612904630601406\n",
      "epoch: 1, accuracy: 1.0, loss: 0.23938783816993237\n",
      "testing accuracy: 1.0 and loss: 0.39376979356165975\n"
     ]
    }
   ],
   "source": [
    "embedding_sizes = [20, 40, 60, 80, 100]\n",
    "#embedding_sizes = [50, 100, 150, 200]\n",
    "smt_times = []\n",
    "backpropagation_times = []\n",
    "\n",
    "for embedding_size in embedding_sizes:\n",
    "    \n",
    "    print(\"embedding_size: \", embedding_size)\n",
    "\n",
    "    model = Model(embedding_size)\n",
    "    optimizer = torch.optim.SGD(model.parameters(), lr = 0.1)\n",
    "    model.to(device)\n",
    "\n",
    "    start_time = time.time()\n",
    "    train_backpropagation(model, points, labels, criterion, optimizer, num_epochs)\n",
    "    backpropagation_times.append(time.time() - start_time)\n",
    "\n",
    "    start_time = time.time()\n",
    "    train_smt(model, points, labels)\n",
    "    smt_times.append(time.time() - start_time)\n",
    "    test(model, points, labels, criterion)"
   ]
  },
  {
   "cell_type": "code",
   "execution_count": 16,
   "id": "c31007e4",
   "metadata": {},
   "outputs": [
    {
     "data": {
      "image/png": "[encoded data removed]",
      "text/plain": [
       "<Figure size 640x480 with 1 Axes>"
      ]
     },
     "metadata": {},
     "output_type": "display_data"
    }
   ],
   "source": [
    "plt.scatter(embedding_sizes, smt_times)\n",
    "plt.title(\"SMT Training Time\")\n",
    "plt.xlabel(\"Running Time (secs)\")\n",
    "plt.ylabel(\"Embedding Layer Size\")\n",
    "plt.show()"
   ]
  },
  {
   "cell_type": "code",
   "execution_count": 17,
   "id": "6560c76c",
   "metadata": {},
   "outputs": [
    {
     "data": {
      "image/png": "[encoded data removed]",
      "text/plain": [
       "<Figure size 640x480 with 1 Axes>"
      ]
     },
     "metadata": {},
     "output_type": "display_data"
    }
   ],
   "source": [
    "plt.scatter(embedding_sizes, backpropagation_times)\n",
    "plt.title(\"Backpropagation Training Time\")\n",
    "plt.xlabel(\"Running Time (secs)\")\n",
    "plt.ylabel(\"Embedding Layer Size\")\n",
    "plt.show()"
   ]
  },
  {
   "cell_type": "code",
   "execution_count": null,
   "id": "1600d11e",
   "metadata": {},
   "outputs": [],
   "source": []
  }
 ],
 "metadata": {
  "kernelspec": {
   "display_name": "Python 3 (ipykernel)",
   "language": "python",
   "name": "python3"
  },
  "language_info": {
   "codemirror_mode": {
    "name": "ipython",
    "version": 3
   },
   "file_extension": ".py",
   "mimetype": "text/x-python",
   "name": "python",
   "nbconvert_exporter": "python",
   "pygments_lexer": "ipython3",
   "version": "3.12.3"
  }
 },
 "nbformat": 4,
 "nbformat_minor": 5
}
