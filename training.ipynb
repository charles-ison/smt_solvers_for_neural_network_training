{
 "cells": [
  {
   "cell_type": "code",
   "execution_count": 1,
   "id": "64dd2c65-4e37-4dc8-b93e-0bee5546c533",
   "metadata": {},
   "outputs": [],
   "source": [
    "import torch\n",
    "import torch.nn as nn\n",
    "from pysmt.shortcuts import Symbol, And, Equals, Real, GT, Max, Plus, get_model\n",
    "from pysmt.typing import REAL"
   ]
  },
  {
   "cell_type": "code",
   "execution_count": 2,
   "id": "663340c8-ca5f-45f9-aa03-80bb4c7483d1",
   "metadata": {},
   "outputs": [],
   "source": [
    "class Model(nn.Module):\n",
    "    def __init__(self):\n",
    "        super(Model, self).__init__()             \n",
    "        #self.linear0 = nn.Linear(3, 3)\n",
    "        self.linear1 = nn.Linear(3, 1)\n",
    "        #self.linear_layers = [self.linear0, self.linear1]\n",
    "        self.linear_layers = [self.linear1]\n",
    "        self.relu = nn.ReLU()\n",
    "        \n",
    "    def forward(self, x):   \n",
    "        #x = self.linear0(x)\n",
    "        #x = self.relu(x)  \n",
    "        \n",
    "        x = self.linear1(x)\n",
    "        x = self.relu(x) \n",
    "        \n",
    "        return x[0]"
   ]
  },
  {
   "cell_type": "code",
   "execution_count": 3,
   "id": "f56893e4",
   "metadata": {},
   "outputs": [],
   "source": [
    "def train_backpropagation(model, all_data, labels, criterion, optimizer, num_epochs):\n",
    "    model.train()\n",
    "    \n",
    "    for epoch in range(num_epochs):\n",
    "        running_loss = 0.0\n",
    "        num_correct = 0\n",
    "    \n",
    "        for (data, label) in zip(all_data, labels): \n",
    "            optimizer.zero_grad()\n",
    "        \n",
    "            output = model(data)\n",
    "            prediction = 1 if output > 0 else 0\n",
    "\n",
    "            loss = criterion(output, label)\n",
    "            num_correct += (label == prediction)\n",
    "        \n",
    "            running_loss += loss.item()\n",
    "            loss.backward()\n",
    "            optimizer.step()\n",
    "\n",
    "        loss = running_loss/len(labels)\n",
    "        accuracy = num_correct/len(labels)\n",
    "        print(\"epoch: \" + str(epoch) + \", accuracy: \" + str(accuracy.item()) + \", loss: \" + str(loss))\n",
    "        \n",
    "        if (accuracy == 1.0):\n",
    "            return"
   ]
  },
  {
   "cell_type": "code",
   "execution_count": 4,
   "id": "460c9e1e",
   "metadata": {},
   "outputs": [],
   "source": [
    "def train_smt(model, all_data, labels):\n",
    "    \n",
    "    layers_weights = []\n",
    "    num_layers = len(model.linear_layers)\n",
    "    for i in range(num_layers):\n",
    "        num_rows = len(model.linear_layers[i].weight.data)\n",
    "        num_cols = len(model.linear_layers[i].weight.data[0])\n",
    "        layer_weights = []\n",
    "        for j in range(num_rows):\n",
    "            weights = []\n",
    "            for k in range(num_cols):\n",
    "                weights.append(Symbol(\"weight_\" + str(j) + \"_\" + str(k), REAL))\n",
    "            weights.append(Symbol(str(\"bias_\" + str(j)), REAL))\n",
    "            layer_weights.append(weights)\n",
    "        layers_weights.append(layer_weights)\n",
    "\n",
    "    equations = []\n",
    "    for (data, label) in zip(all_data, labels):\n",
    "        \n",
    "        for i in range(num_rows):\n",
    "            calculations = []\n",
    "            for j in range(num_cols):\n",
    "                x = data[j].item()\n",
    "                calculation = layers_weights[0][i][j] * Real(x)\n",
    "                calculations.append(calculation)\n",
    "            calculations.append(layers_weights[0][i][num_cols])\n",
    "            calculation = Plus(calculations)\n",
    "            \n",
    "        relu = Max(calculation, Real(0.0))\n",
    "    \n",
    "        if label.item() == 0.0:\n",
    "            equation = Equals(relu, Real(0.0))\n",
    "        else:\n",
    "            equation = GT(relu, Real(0.0))\n",
    "            \n",
    "        equations.append(equation)\n",
    "\n",
    "    formula = And(equations)\n",
    "    solution = get_model(formula)\n",
    "    \n",
    "    if solution:\n",
    "        print(solution)\n",
    "        \n",
    "        for i in range(num_layers):\n",
    "            num_rows = len(model.linear_layers[i].weight.data)\n",
    "            num_cols = len(model.linear_layers[i].weight.data[0])\n",
    "            for j in range(num_rows):\n",
    "                for k in range(num_cols):\n",
    "                    weight = layers_weights[i][j][k]\n",
    "                    weight_solution = solution[weight].constant_value()\n",
    "                    model.linear_layers[i].weight.data[j][k] = float(weight_solution)\n",
    "    \n",
    "                bias = layers_weights[i][j][num_rows]\n",
    "                bias_solution = solution[bias].constant_value()\n",
    "                model.linear_layers[i].bias.data[i] = float(bias_solution)\n",
    "\n",
    "    else:\n",
    "        print(\"No solution found\")"
   ]
  },
  {
   "cell_type": "code",
   "execution_count": 5,
   "id": "b2a498e5",
   "metadata": {},
   "outputs": [],
   "source": [
    "def test(model, all_data, labels, criterion): \n",
    "    running_loss = 0.0\n",
    "    num_correct = 0\n",
    "    \n",
    "    for (data, label) in zip(all_data, labels): \n",
    "        output = model(data)\n",
    "        prediction = 1 if output > 0 else 0\n",
    "\n",
    "        loss = criterion(output, label)\n",
    "        num_correct += (label == prediction)\n",
    "        \n",
    "        running_loss += loss.item()\n",
    "\n",
    "    loss = running_loss/len(labels)\n",
    "    accuracy = num_correct/len(labels)\n",
    "    \n",
    "    print(\"testing accuracy: \" + str(accuracy.item()) + \" and loss: \" + str(loss))"
   ]
  },
  {
   "cell_type": "code",
   "execution_count": 6,
   "id": "3851b7bc-a254-4ce2-ac88-bbe5bfdce954",
   "metadata": {},
   "outputs": [],
   "source": [
    "device = torch.device('cuda' if torch.cuda.is_available() else 'cpu')\n",
    "\n",
    "model = Model()\n",
    "model.to(device)\n",
    "\n",
    "points = torch.tensor([[-1.0, -1.0, -1.0], [1.0, -1.0, -1.0], [-1.0, 1.0, -1.0], [-1.0, -1.0, 1.0],\n",
    "                       [1.0, 1.0, 1.0], [-1.0, 1.0, 1.0], [1.0, -1.0, 1.0], [1.0, 1.0, -1.0],])\n",
    "\n",
    "labels = torch.tensor([0.0, 1.0, 0.0, 0.0, 1.0, 0.0, 1.0, 1.0], requires_grad=True)\n",
    "\n",
    "criterion = nn.BCEWithLogitsLoss()\n",
    "optimizer = torch.optim.SGD(model.parameters(), lr = 0.1)\n",
    "num_epochs = 200"
   ]
  },
  {
   "cell_type": "code",
   "execution_count": 7,
   "id": "4abcfc74-b773-4876-a915-a11a28e34a9d",
   "metadata": {},
   "outputs": [
    {
     "name": "stdout",
     "output_type": "stream",
     "text": [
      "epoch: 0, accuracy: 0.625, loss: 0.6600987166166306\n",
      "epoch: 1, accuracy: 0.625, loss: 0.6328246183693409\n",
      "epoch: 2, accuracy: 0.75, loss: 0.6134053282439709\n",
      "epoch: 3, accuracy: 0.75, loss: 0.5999750606715679\n",
      "epoch: 4, accuracy: 0.625, loss: 0.5931508243083954\n",
      "epoch: 5, accuracy: 0.75, loss: 0.5836565047502518\n",
      "epoch: 6, accuracy: 0.75, loss: 0.5765510965138674\n",
      "epoch: 7, accuracy: 0.875, loss: 0.5690516084432602\n",
      "epoch: 8, accuracy: 1.0, loss: 0.5358446128666401\n",
      "testing accuracy: 1.0 and loss: 0.5067926216870546\n"
     ]
    }
   ],
   "source": [
    "train_backpropagation(model, points, labels, criterion, optimizer, num_epochs)\n",
    "test(model, points, labels, criterion)"
   ]
  },
  {
   "cell_type": "code",
   "execution_count": 8,
   "id": "2fe637e1",
   "metadata": {},
   "outputs": [
    {
     "name": "stdout",
     "output_type": "stream",
     "text": [
      "weight_0_0 := 1/2\n",
      "bias_0 := 0.0\n",
      "weight_0_1 := 0.0\n",
      "weight_0_2 := 0.0\n",
      "testing accuracy: 1.0 and loss: 0.5836120843887329\n"
     ]
    }
   ],
   "source": [
    "train_smt(model, points, labels)\n",
    "test(model, points, labels, criterion)"
   ]
  },
  {
   "cell_type": "code",
   "execution_count": null,
   "id": "c31007e4",
   "metadata": {},
   "outputs": [],
   "source": []
  },
  {
   "cell_type": "code",
   "execution_count": null,
   "id": "4e7e8198",
   "metadata": {},
   "outputs": [],
   "source": []
  }
 ],
 "metadata": {
  "kernelspec": {
   "display_name": "Python 3 (ipykernel)",
   "language": "python",
   "name": "python3"
  },
  "language_info": {
   "codemirror_mode": {
    "name": "ipython",
    "version": 3
   },
   "file_extension": ".py",
   "mimetype": "text/x-python",
   "name": "python",
   "nbconvert_exporter": "python",
   "pygments_lexer": "ipython3",
   "version": "3.12.3"
  }
 },
 "nbformat": 4,
 "nbformat_minor": 5
}
