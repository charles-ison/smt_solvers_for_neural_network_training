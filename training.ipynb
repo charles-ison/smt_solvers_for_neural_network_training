{
 "cells": [
  {
   "cell_type": "code",
   "execution_count": 2,
   "id": "64dd2c65-4e37-4dc8-b93e-0bee5546c533",
   "metadata": {},
   "outputs": [],
   "source": [
    "import torch\n",
    "import torch.nn as nn\n",
    "from pysmt.shortcuts import Symbol, And, Equals, Real, GT, LT, get_model\n",
    "from pysmt.typing import REAL"
   ]
  },
  {
   "cell_type": "code",
   "execution_count": 3,
   "id": "9aac55ca-1087-48a7-9ce6-3b864159c573",
   "metadata": {},
   "outputs": [],
   "source": [
    "class Node(nn.Module):\n",
    "    def __init__(self):\n",
    "        super(Node, self).__init__()             \n",
    "        self.linear = nn.Linear(2, 1)\n",
    "        self.relu = nn.ReLU()\n",
    "\n",
    "    def forward(self, x):     \n",
    "        x = self.linear(x)\n",
    "        x = self.relu(x)\n",
    "        \n",
    "        #option1 = torch.tensor(1.0, requires_grad=True)\n",
    "        #option2 = torch.tensor(0.0, requires_grad=True)\n",
    "        #Replace 0 with self.threshold.weight\n",
    "        #x = torch.where(x > 0, option1, option2, requires_grad=True)\n",
    "        \n",
    "        return x"
   ]
  },
  {
   "cell_type": "code",
   "execution_count": 4,
   "id": "663340c8-ca5f-45f9-aa03-80bb4c7483d1",
   "metadata": {},
   "outputs": [],
   "source": [
    "class Model(nn.Module):\n",
    "    def __init__(self):\n",
    "        super(Model, self).__init__()             \n",
    "        self.node1 = Node()\n",
    "        \n",
    "    def forward(self, x):   \n",
    "        x = self.node1(x)\n",
    "        return x[0]"
   ]
  },
  {
   "cell_type": "code",
   "execution_count": 5,
   "id": "f56893e4",
   "metadata": {},
   "outputs": [],
   "source": [
    "def train(model, all_data, labels, criterion, optimizer, num_epochs):\n",
    "    model.train()\n",
    "    \n",
    "    for epoch in range(num_epochs):\n",
    "        running_loss = 0.0\n",
    "        num_correct = 0\n",
    "    \n",
    "        for (data, label) in zip(all_data, labels): \n",
    "            optimizer.zero_grad()\n",
    "        \n",
    "            output = model(data)\n",
    "            prediction = 1 if output > 0 else 0\n",
    "\n",
    "            loss = criterion(output, label)\n",
    "            num_correct += (output == prediction)\n",
    "        \n",
    "            running_loss += loss.item()\n",
    "            loss.backward()\n",
    "            optimizer.step()\n",
    "\n",
    "        loss = running_loss/len(labels)\n",
    "        accuracy = num_correct/len(labels)\n",
    "    \n",
    "        print(\"epoch: \" + str(epoch) + \", accuracy: \" + str(accuracy.item()) + \", loss: \" + str(loss))"
   ]
  },
  {
   "cell_type": "code",
   "execution_count": 6,
   "id": "3851b7bc-a254-4ce2-ac88-bbe5bfdce954",
   "metadata": {},
   "outputs": [],
   "source": [
    "device = torch.device('cuda' if torch.cuda.is_available() else 'cpu')\n",
    "\n",
    "model = Model()\n",
    "model.to(device)\n",
    "\n",
    "points = torch.tensor([[-1.0, -1.0], [-1.0, 1.0], [1.0, -1.0], [1.0, 1.0]])\n",
    "labels = torch.tensor([0.0, 0.0, 1.0, 1.0], requires_grad=True)\n",
    "\n",
    "criterion = nn.BCEWithLogitsLoss()\n",
    "optimizer = torch.optim.SGD(model.parameters(), lr = 0.1)\n",
    "num_epochs = 10"
   ]
  },
  {
   "cell_type": "code",
   "execution_count": 7,
   "id": "4abcfc74-b773-4876-a915-a11a28e34a9d",
   "metadata": {},
   "outputs": [
    {
     "name": "stdout",
     "output_type": "stream",
     "text": [
      "epoch: 0, accuracy: 0.25, loss: 0.9669813737273216\n",
      "epoch: 1, accuracy: 0.25, loss: 0.8610153347253799\n",
      "epoch: 2, accuracy: 0.5, loss: 0.7879737168550491\n",
      "epoch: 3, accuracy: 0.5, loss: 0.7507683336734772\n",
      "epoch: 4, accuracy: 0.25, loss: 0.7141583561897278\n",
      "epoch: 5, accuracy: 0.25, loss: 0.6447553113102913\n",
      "epoch: 6, accuracy: 0.25, loss: 0.5875185877084732\n",
      "epoch: 7, accuracy: 0.25, loss: 0.5402806177735329\n",
      "epoch: 8, accuracy: 0.5, loss: 0.5080373510718346\n",
      "epoch: 9, accuracy: 0.5, loss: 0.49350449442863464\n"
     ]
    }
   ],
   "source": [
    "train(model, points, labels, criterion, optimizer, num_epochs)"
   ]
  },
  {
   "cell_type": "code",
   "execution_count": 18,
   "id": "e0215532-8b4a-4d23-8715-5ca21973d7c4",
   "metadata": {},
   "outputs": [
    {
     "name": "stdout",
     "output_type": "stream",
     "text": [
      "((((w1 * -1.0) + (w2 * -1.0)) < 0.0) & (((w1 * -1.0) + (w2 * 1.0)) < 0.0) & (0.0 < ((w1 * 1.0) + (w2 * -1.0))) & (0.0 < ((w1 * 1.0) + (w2 * 1.0))))\n",
      "w1 := 1/2\n",
      "w2 := 0.0\n",
      "1/2\n",
      "0.0\n"
     ]
    }
   ],
   "source": [
    "w1 = Symbol(\"w1\", REAL)\n",
    "w2 = Symbol(\"w2\", REAL)\n",
    "\n",
    "equations = []\n",
    "\n",
    "for (point, label) in zip(points, labels):\n",
    "    x = point[0].item()\n",
    "    y = point[1].item()\n",
    "    calculation = w1 * Real(x) + w2 * Real(y)\n",
    "    zero = Real(0.0)\n",
    "    \n",
    "    if label.item() == 0.0:\n",
    "        equation = LT(calculation, zero)\n",
    "    else:\n",
    "        equation = GT(calculation, zero)\n",
    "    equations.append(equation)\n",
    "\n",
    "formula = And(equations)\n",
    "print(formula)\n",
    "\n",
    "model = get_model(formula)\n",
    "if model:\n",
    "    print(model)\n",
    "    print(model[w1])\n",
    "    print(model[w2])\n",
    "\n",
    "else:\n",
    "    print(\"No solution found\")"
   ]
  },
  {
   "cell_type": "code",
   "execution_count": null,
   "id": "e9a6e5a4-6c68-4768-b4e8-55d1057ff004",
   "metadata": {},
   "outputs": [],
   "source": []
  },
  {
   "cell_type": "code",
   "execution_count": null,
   "id": "2fe637e1",
   "metadata": {},
   "outputs": [],
   "source": []
  }
 ],
 "metadata": {
  "kernelspec": {
   "display_name": "Python 3 (ipykernel)",
   "language": "python",
   "name": "python3"
  },
  "language_info": {
   "codemirror_mode": {
    "name": "ipython",
    "version": 3
   },
   "file_extension": ".py",
   "mimetype": "text/x-python",
   "name": "python",
   "nbconvert_exporter": "python",
   "pygments_lexer": "ipython3",
   "version": "3.12.3"
  }
 },
 "nbformat": 4,
 "nbformat_minor": 5
}
