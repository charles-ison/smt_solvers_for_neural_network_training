{
 "cells": [
  {
   "cell_type": "code",
   "execution_count": 1,
   "id": "64dd2c65-4e37-4dc8-b93e-0bee5546c533",
   "metadata": {},
   "outputs": [],
   "source": [
    "import torch\n",
    "import torch.nn as nn\n",
    "from pysmt.shortcuts import Symbol, And, Equals, get_model\n",
    "from pysmt.typing import INT"
   ]
  },
  {
   "cell_type": "code",
   "execution_count": 2,
   "id": "9aac55ca-1087-48a7-9ce6-3b864159c573",
   "metadata": {},
   "outputs": [],
   "source": [
    "class Node(nn.Module):\n",
    "    def __init__(self):\n",
    "        super(Node, self).__init__()             \n",
    "        self.linear = nn.Linear(3, 1)\n",
    "        self.threshold = nn.Linear(1, 1)\n",
    "\n",
    "    def forward(self, x):\n",
    "        x = self.linear(x)\n",
    "        if x > self.threshold.weight:\n",
    "            return 1\n",
    "        else:\n",
    "            return -1"
   ]
  },
  {
   "cell_type": "code",
   "execution_count": 3,
   "id": "663340c8-ca5f-45f9-aa03-80bb4c7483d1",
   "metadata": {},
   "outputs": [],
   "source": [
    "class FFNN(nn.Module):\n",
    "    def __init__(self):\n",
    "        super(FFNN, self).__init__()             \n",
    "        self.node1 = Node()\n",
    "        self.node2 = Node()\n",
    "        \n",
    "    def forward(self, x):   \n",
    "        output1 = self.node1(x)\n",
    "        output2 = self.node2(x)\n",
    "        return output1"
   ]
  },
  {
   "cell_type": "code",
   "execution_count": 4,
   "id": "3851b7bc-a254-4ce2-ac88-bbe5bfdce954",
   "metadata": {},
   "outputs": [],
   "source": [
    "ffnn = FFNN()\n",
    "ffnn.node1.linear.weight.data[0][0] = 0"
   ]
  },
  {
   "cell_type": "code",
   "execution_count": 5,
   "id": "4abcfc74-b773-4876-a915-a11a28e34a9d",
   "metadata": {},
   "outputs": [
    {
     "data": {
      "text/plain": [
       "-1"
      ]
     },
     "execution_count": 5,
     "metadata": {},
     "output_type": "execute_result"
    }
   ],
   "source": [
    "point = torch.tensor([[1.0, 1.0, 1.0]])\n",
    "ffnn(point)"
   ]
  },
  {
   "cell_type": "code",
   "execution_count": 4,
   "id": "e0215532-8b4a-4d23-8715-5ca21973d7c4",
   "metadata": {},
   "outputs": [
    {
     "name": "stdout",
     "output_type": "stream",
     "text": [
      "(((x1 - x2) = (x1 + x2)) & ((0 <= x1) & (x1 <= 1)) & ((0 <= x2) & (x2 <= 1)))\n"
     ]
    },
    {
     "ename": "NoSolverAvailableError",
     "evalue": "No Solver is available",
     "output_type": "error",
     "traceback": [
      "\u001b[0;31m---------------------------------------------------------------------------\u001b[0m",
      "\u001b[0;31mNoSolverAvailableError\u001b[0m                    Traceback (most recent call last)",
      "Cell \u001b[0;32mIn[4], line 10\u001b[0m\n\u001b[1;32m      7\u001b[0m formula \u001b[38;5;241m=\u001b[39m And(equation, x1_domain, x2_domain)\n\u001b[1;32m      8\u001b[0m \u001b[38;5;28mprint\u001b[39m(formula)\n\u001b[0;32m---> 10\u001b[0m model \u001b[38;5;241m=\u001b[39m \u001b[43mget_model\u001b[49m\u001b[43m(\u001b[49m\u001b[43mformula\u001b[49m\u001b[43m)\u001b[49m\n\u001b[1;32m     11\u001b[0m \u001b[38;5;28;01mif\u001b[39;00m model:\n\u001b[1;32m     12\u001b[0m   \u001b[38;5;28mprint\u001b[39m(model)\n",
      "File \u001b[0;32m~/Documents/CS_517/theory_of_computation_final/env/lib/python3.12/site-packages/pysmt/shortcuts.py:1021\u001b[0m, in \u001b[0;36mget_model\u001b[0;34m(formula, solver_name, logic)\u001b[0m\n\u001b[1;32m   1018\u001b[0m     warnings\u001b[38;5;241m.\u001b[39mwarn(\u001b[38;5;124m\"\u001b[39m\u001b[38;5;124mWarning: Contextualizing formula during get_model\u001b[39m\u001b[38;5;124m\"\u001b[39m)\n\u001b[1;32m   1019\u001b[0m     formula \u001b[38;5;241m=\u001b[39m env\u001b[38;5;241m.\u001b[39mformula_manager\u001b[38;5;241m.\u001b[39mnormalize(formula)\n\u001b[0;32m-> 1021\u001b[0m \u001b[38;5;28;01mreturn\u001b[39;00m \u001b[43menv\u001b[49m\u001b[38;5;241;43m.\u001b[39;49m\u001b[43mfactory\u001b[49m\u001b[38;5;241;43m.\u001b[39;49m\u001b[43mget_model\u001b[49m\u001b[43m(\u001b[49m\u001b[43mformula\u001b[49m\u001b[43m,\u001b[49m\n\u001b[1;32m   1022\u001b[0m \u001b[43m                             \u001b[49m\u001b[43msolver_name\u001b[49m\u001b[38;5;241;43m=\u001b[39;49m\u001b[43msolver_name\u001b[49m\u001b[43m,\u001b[49m\n\u001b[1;32m   1023\u001b[0m \u001b[43m                             \u001b[49m\u001b[43mlogic\u001b[49m\u001b[38;5;241;43m=\u001b[39;49m\u001b[43mlogic\u001b[49m\u001b[43m)\u001b[49m\n",
      "File \u001b[0;32m~/Documents/CS_517/theory_of_computation_final/env/lib/python3.12/site-packages/pysmt/factory.py:471\u001b[0m, in \u001b[0;36mFactory.get_model\u001b[0;34m(self, formula, solver_name, logic)\u001b[0m\n\u001b[1;32m    469\u001b[0m \u001b[38;5;28;01mif\u001b[39;00m logic \u001b[38;5;129;01mis\u001b[39;00m \u001b[38;5;28;01mNone\u001b[39;00m \u001b[38;5;129;01mor\u001b[39;00m logic \u001b[38;5;241m==\u001b[39m AUTO_LOGIC:\n\u001b[1;32m    470\u001b[0m     logic \u001b[38;5;241m=\u001b[39m get_logic(formula, \u001b[38;5;28mself\u001b[39m\u001b[38;5;241m.\u001b[39menvironment)\n\u001b[0;32m--> 471\u001b[0m \u001b[38;5;28;01mwith\u001b[39;00m \u001b[38;5;28;43mself\u001b[39;49m\u001b[38;5;241;43m.\u001b[39;49m\u001b[43mSolver\u001b[49m\u001b[43m(\u001b[49m\u001b[43mname\u001b[49m\u001b[38;5;241;43m=\u001b[39;49m\u001b[43msolver_name\u001b[49m\u001b[43m,\u001b[49m\u001b[43m \u001b[49m\u001b[43mlogic\u001b[49m\u001b[38;5;241;43m=\u001b[39;49m\u001b[43mlogic\u001b[49m\u001b[43m,\u001b[49m\n\u001b[1;32m    472\u001b[0m \u001b[43m                 \u001b[49m\u001b[43mgenerate_models\u001b[49m\u001b[38;5;241;43m=\u001b[39;49m\u001b[38;5;28;43;01mTrue\u001b[39;49;00m\u001b[43m,\u001b[49m\n\u001b[1;32m    473\u001b[0m \u001b[43m                 \u001b[49m\u001b[43mincremental\u001b[49m\u001b[38;5;241;43m=\u001b[39;49m\u001b[38;5;28;43;01mFalse\u001b[39;49;00m\u001b[43m)\u001b[49m \u001b[38;5;28;01mas\u001b[39;00m solver:\n\u001b[1;32m    474\u001b[0m     solver\u001b[38;5;241m.\u001b[39madd_assertion(formula)\n\u001b[1;32m    475\u001b[0m     \u001b[38;5;28;01mif\u001b[39;00m solver\u001b[38;5;241m.\u001b[39msolve():\n",
      "File \u001b[0;32m~/Documents/CS_517/theory_of_computation_final/env/lib/python3.12/site-packages/pysmt/factory.py:437\u001b[0m, in \u001b[0;36mFactory.Solver\u001b[0;34m(self, name, logic, **options)\u001b[0m\n\u001b[1;32m    436\u001b[0m \u001b[38;5;28;01mdef\u001b[39;00m \u001b[38;5;21mSolver\u001b[39m(\u001b[38;5;28mself\u001b[39m, name\u001b[38;5;241m=\u001b[39m\u001b[38;5;28;01mNone\u001b[39;00m, logic\u001b[38;5;241m=\u001b[39m\u001b[38;5;28;01mNone\u001b[39;00m, \u001b[38;5;241m*\u001b[39m\u001b[38;5;241m*\u001b[39moptions):\n\u001b[0;32m--> 437\u001b[0m     \u001b[38;5;28;01mreturn\u001b[39;00m \u001b[38;5;28;43mself\u001b[39;49m\u001b[38;5;241;43m.\u001b[39;49m\u001b[43mget_solver\u001b[49m\u001b[43m(\u001b[49m\u001b[43mname\u001b[49m\u001b[38;5;241;43m=\u001b[39;49m\u001b[43mname\u001b[49m\u001b[43m,\u001b[49m\n\u001b[1;32m    438\u001b[0m \u001b[43m                           \u001b[49m\u001b[43mlogic\u001b[49m\u001b[38;5;241;43m=\u001b[39;49m\u001b[43mlogic\u001b[49m\u001b[43m,\u001b[49m\n\u001b[1;32m    439\u001b[0m \u001b[43m                           \u001b[49m\u001b[38;5;241;43m*\u001b[39;49m\u001b[38;5;241;43m*\u001b[39;49m\u001b[43moptions\u001b[49m\u001b[43m)\u001b[49m\n",
      "File \u001b[0;32m~/Documents/CS_517/theory_of_computation_final/env/lib/python3.12/site-packages/pysmt/factory.py:91\u001b[0m, in \u001b[0;36mFactory.get_solver\u001b[0;34m(self, name, logic, **options)\u001b[0m\n\u001b[1;32m     89\u001b[0m \u001b[38;5;28;01mdef\u001b[39;00m \u001b[38;5;21mget_solver\u001b[39m(\u001b[38;5;28mself\u001b[39m, name\u001b[38;5;241m=\u001b[39m\u001b[38;5;28;01mNone\u001b[39;00m, logic\u001b[38;5;241m=\u001b[39m\u001b[38;5;28;01mNone\u001b[39;00m, \u001b[38;5;241m*\u001b[39m\u001b[38;5;241m*\u001b[39moptions):\n\u001b[1;32m     90\u001b[0m     SolverClass, closer_logic \u001b[38;5;241m=\u001b[39m \\\n\u001b[0;32m---> 91\u001b[0m        \u001b[38;5;28;43mself\u001b[39;49m\u001b[38;5;241;43m.\u001b[39;49m\u001b[43m_get_solver_class\u001b[49m\u001b[43m(\u001b[49m\u001b[43msolver_list\u001b[49m\u001b[38;5;241;43m=\u001b[39;49m\u001b[38;5;28;43mself\u001b[39;49m\u001b[38;5;241;43m.\u001b[39;49m\u001b[43m_all_solvers\u001b[49m\u001b[43m,\u001b[49m\n\u001b[1;32m     92\u001b[0m \u001b[43m                              \u001b[49m\u001b[43msolver_type\u001b[49m\u001b[38;5;241;43m=\u001b[39;49m\u001b[38;5;124;43m\"\u001b[39;49m\u001b[38;5;124;43mSolver\u001b[39;49m\u001b[38;5;124;43m\"\u001b[39;49m\u001b[43m,\u001b[49m\n\u001b[1;32m     93\u001b[0m \u001b[43m                              \u001b[49m\u001b[43mpreference_list\u001b[49m\u001b[38;5;241;43m=\u001b[39;49m\u001b[38;5;28;43mself\u001b[39;49m\u001b[38;5;241;43m.\u001b[39;49m\u001b[43msolver_preference_list\u001b[49m\u001b[43m,\u001b[49m\n\u001b[1;32m     94\u001b[0m \u001b[43m                              \u001b[49m\u001b[43mdefault_logic\u001b[49m\u001b[38;5;241;43m=\u001b[39;49m\u001b[38;5;28;43mself\u001b[39;49m\u001b[38;5;241;43m.\u001b[39;49m\u001b[43mdefault_logic\u001b[49m\u001b[43m,\u001b[49m\n\u001b[1;32m     95\u001b[0m \u001b[43m                              \u001b[49m\u001b[43mname\u001b[49m\u001b[38;5;241;43m=\u001b[39;49m\u001b[43mname\u001b[49m\u001b[43m,\u001b[49m\n\u001b[1;32m     96\u001b[0m \u001b[43m                              \u001b[49m\u001b[43mlogic\u001b[49m\u001b[38;5;241;43m=\u001b[39;49m\u001b[43mlogic\u001b[49m\u001b[43m)\u001b[49m\n\u001b[1;32m     98\u001b[0m     \u001b[38;5;28;01mreturn\u001b[39;00m SolverClass(environment\u001b[38;5;241m=\u001b[39m\u001b[38;5;28mself\u001b[39m\u001b[38;5;241m.\u001b[39menvironment,\n\u001b[1;32m     99\u001b[0m                        logic\u001b[38;5;241m=\u001b[39mcloser_logic,\n\u001b[1;32m    100\u001b[0m                        \u001b[38;5;241m*\u001b[39m\u001b[38;5;241m*\u001b[39moptions)\n",
      "File \u001b[0;32m~/Documents/CS_517/theory_of_computation_final/env/lib/python3.12/site-packages/pysmt/factory.py:146\u001b[0m, in \u001b[0;36mFactory._get_solver_class\u001b[0;34m(self, solver_list, solver_type, preference_list, default_logic, name, logic)\u001b[0m\n\u001b[1;32m    143\u001b[0m \u001b[38;5;28;01mdef\u001b[39;00m \u001b[38;5;21m_get_solver_class\u001b[39m(\u001b[38;5;28mself\u001b[39m, solver_list, solver_type, preference_list,\n\u001b[1;32m    144\u001b[0m                       default_logic, name\u001b[38;5;241m=\u001b[39m\u001b[38;5;28;01mNone\u001b[39;00m, logic\u001b[38;5;241m=\u001b[39m\u001b[38;5;28;01mNone\u001b[39;00m):\n\u001b[1;32m    145\u001b[0m     \u001b[38;5;28;01mif\u001b[39;00m \u001b[38;5;28mlen\u001b[39m(solver_list) \u001b[38;5;241m==\u001b[39m \u001b[38;5;241m0\u001b[39m:\n\u001b[0;32m--> 146\u001b[0m         \u001b[38;5;28;01mraise\u001b[39;00m NoSolverAvailableError(\u001b[38;5;124m\"\u001b[39m\u001b[38;5;124mNo \u001b[39m\u001b[38;5;132;01m%s\u001b[39;00m\u001b[38;5;124m is available\u001b[39m\u001b[38;5;124m\"\u001b[39m \u001b[38;5;241m%\u001b[39m solver_type)\n\u001b[1;32m    148\u001b[0m     logic \u001b[38;5;241m=\u001b[39m convert_logic_from_string(logic)\n\u001b[1;32m    149\u001b[0m     \u001b[38;5;28;01mif\u001b[39;00m name \u001b[38;5;129;01mis\u001b[39;00m \u001b[38;5;129;01mnot\u001b[39;00m \u001b[38;5;28;01mNone\u001b[39;00m:\n",
      "\u001b[0;31mNoSolverAvailableError\u001b[0m: No Solver is available"
     ]
    }
   ],
   "source": [
    "x1 = Symbol(\"x1\", INT)\n",
    "x2 = Symbol(\"x2\", INT)\n",
    "x1_domain = And(x1 >= 0, x1 <= 1)\n",
    "x2_domain = And(x2 >= 0, x2 <= 1)\n",
    "\n",
    "equation = Equals(x1 - x2, x1 + x2)\n",
    "formula = And(equation, x1_domain, x2_domain)\n",
    "print(formula)\n",
    "\n",
    "model = get_model(formula)\n",
    "if model:\n",
    "  print(model)\n",
    "else:\n",
    "  print(\"No solution found\")"
   ]
  },
  {
   "cell_type": "code",
   "execution_count": null,
   "id": "e9a6e5a4-6c68-4768-b4e8-55d1057ff004",
   "metadata": {},
   "outputs": [],
   "source": []
  }
 ],
 "metadata": {
  "kernelspec": {
   "display_name": "Python 3 (ipykernel)",
   "language": "python",
   "name": "python3"
  },
  "language_info": {
   "codemirror_mode": {
    "name": "ipython",
    "version": 3
   },
   "file_extension": ".py",
   "mimetype": "text/x-python",
   "name": "python",
   "nbconvert_exporter": "python",
   "pygments_lexer": "ipython3",
   "version": "3.12.3"
  }
 },
 "nbformat": 4,
 "nbformat_minor": 5
}
