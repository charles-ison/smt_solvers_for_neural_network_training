{
 "cells": [
  {
   "cell_type": "code",
   "execution_count": 1,
   "id": "64dd2c65-4e37-4dc8-b93e-0bee5546c533",
   "metadata": {},
   "outputs": [],
   "source": [
    "import torch\n",
    "import torch.nn as nn\n",
    "from pysmt.shortcuts import Symbol, And, Not, is_sat"
   ]
  },
  {
   "cell_type": "code",
   "execution_count": 2,
   "id": "9aac55ca-1087-48a7-9ce6-3b864159c573",
   "metadata": {},
   "outputs": [],
   "source": [
    "class Node(nn.Module):\n",
    "    def __init__(self):\n",
    "        super(Node, self).__init__()             \n",
    "        self.linear = nn.Linear(3, 1)\n",
    "        self.threshold = nn.Linear(1, 1)\n",
    "\n",
    "    def forward(self, x):\n",
    "        x = self.linear(x)\n",
    "        if x > self.threshold.weight:\n",
    "            return 1\n",
    "        else:\n",
    "            return -1"
   ]
  },
  {
   "cell_type": "code",
   "execution_count": 3,
   "id": "663340c8-ca5f-45f9-aa03-80bb4c7483d1",
   "metadata": {},
   "outputs": [],
   "source": [
    "class FFNN(nn.Module):\n",
    "    def __init__(self):\n",
    "        super(FFNN, self).__init__()             \n",
    "        self.node1 = Node()\n",
    "        self.node2 = Node()\n",
    "        \n",
    "    def forward(self, x):   \n",
    "        output1 = self.node1(x)\n",
    "        output2 = self.node2(x)\n",
    "        return output1"
   ]
  },
  {
   "cell_type": "code",
   "execution_count": 4,
   "id": "3851b7bc-a254-4ce2-ac88-bbe5bfdce954",
   "metadata": {},
   "outputs": [],
   "source": [
    "ffnn = FFNN()\n",
    "ffnn.node1.linear.weight.data[0][0] = 0"
   ]
  },
  {
   "cell_type": "code",
   "execution_count": 5,
   "id": "4abcfc74-b773-4876-a915-a11a28e34a9d",
   "metadata": {},
   "outputs": [
    {
     "data": {
      "text/plain": [
       "-1"
      ]
     },
     "execution_count": 5,
     "metadata": {},
     "output_type": "execute_result"
    }
   ],
   "source": [
    "point = torch.tensor([[1.0, 1.0, 1.0]])\n",
    "ffnn(point)"
   ]
  },
  {
   "cell_type": "code",
   "execution_count": null,
   "id": "e0215532-8b4a-4d23-8715-5ca21973d7c4",
   "metadata": {},
   "outputs": [],
   "source": []
  }
 ],
 "metadata": {
  "kernelspec": {
   "display_name": "Python 3 (ipykernel)",
   "language": "python",
   "name": "python3"
  },
  "language_info": {
   "codemirror_mode": {
    "name": "ipython",
    "version": 3
   },
   "file_extension": ".py",
   "mimetype": "text/x-python",
   "name": "python",
   "nbconvert_exporter": "python",
   "pygments_lexer": "ipython3",
   "version": "3.12.3"
  }
 },
 "nbformat": 4,
 "nbformat_minor": 5
}
