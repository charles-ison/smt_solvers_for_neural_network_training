{
 "cells": [
  {
   "cell_type": "code",
   "execution_count": 22,
   "id": "64dd2c65-4e37-4dc8-b93e-0bee5546c533",
   "metadata": {},
   "outputs": [],
   "source": [
    "import torch\n",
    "import torch.nn as nn\n",
    "from pysmt.shortcuts import Symbol, And, Equals, Real, GT, Max, get_model\n",
    "from pysmt.typing import REAL"
   ]
  },
  {
   "cell_type": "code",
   "execution_count": 23,
   "id": "663340c8-ca5f-45f9-aa03-80bb4c7483d1",
   "metadata": {},
   "outputs": [],
   "source": [
    "class Model(nn.Module):\n",
    "    def __init__(self):\n",
    "        super(Model, self).__init__()             \n",
    "        self.linear = nn.Linear(2, 1)\n",
    "        self.relu = nn.ReLU()\n",
    "        \n",
    "    def forward(self, x):   \n",
    "        x = self.linear(x)\n",
    "        x = self.relu(x)            \n",
    "        return x[0]"
   ]
  },
  {
   "cell_type": "code",
   "execution_count": 24,
   "id": "f56893e4",
   "metadata": {},
   "outputs": [],
   "source": [
    "def train(model, all_data, labels, criterion, optimizer, num_epochs):\n",
    "    model.train()\n",
    "    \n",
    "    for epoch in range(num_epochs):\n",
    "        running_loss = 0.0\n",
    "        num_correct = 0\n",
    "    \n",
    "        for (data, label) in zip(all_data, labels): \n",
    "            optimizer.zero_grad()\n",
    "        \n",
    "            output = model(data)\n",
    "            prediction = 1 if output > 0 else 0\n",
    "\n",
    "            loss = criterion(output, label)\n",
    "            num_correct += (label == prediction)\n",
    "        \n",
    "            running_loss += loss.item()\n",
    "            loss.backward()\n",
    "            optimizer.step()\n",
    "\n",
    "        loss = running_loss/len(labels)\n",
    "        accuracy = num_correct/len(labels)\n",
    "    \n",
    "        print(\"epoch: \" + str(epoch) + \", accuracy: \" + str(accuracy.item()) + \", loss: \" + str(loss))\n",
    "        \n",
    "\n",
    "def test(model, all_data, labels, criterion): \n",
    "    running_loss = 0.0\n",
    "    num_correct = 0\n",
    "    \n",
    "    for (data, label) in zip(all_data, labels): \n",
    "        output = model(data)\n",
    "        prediction = 1 if output > 0 else 0\n",
    "\n",
    "        loss = criterion(output, label)\n",
    "        num_correct += (label == prediction)\n",
    "        \n",
    "        running_loss += loss.item()\n",
    "\n",
    "    loss = running_loss/len(labels)\n",
    "    accuracy = num_correct/len(labels)\n",
    "    \n",
    "    print(\"testing accuracy: \" + str(accuracy.item()) + \" and loss: \" + str(loss))"
   ]
  },
  {
   "cell_type": "code",
   "execution_count": 25,
   "id": "3851b7bc-a254-4ce2-ac88-bbe5bfdce954",
   "metadata": {},
   "outputs": [],
   "source": [
    "device = torch.device('cuda' if torch.cuda.is_available() else 'cpu')\n",
    "\n",
    "model = Model()\n",
    "model.to(device)\n",
    "\n",
    "points = torch.tensor([[-1.0, -1.0], [-1.0, 1.0], [1.0, -1.0], [1.0, 1.0]])\n",
    "labels = torch.tensor([0.0, 0.0, 1.0, 1.0], requires_grad=True)\n",
    "\n",
    "criterion = nn.BCEWithLogitsLoss()\n",
    "optimizer = torch.optim.SGD(model.parameters(), lr = 0.1)\n",
    "num_epochs = 3"
   ]
  },
  {
   "cell_type": "code",
   "execution_count": 26,
   "id": "4abcfc74-b773-4876-a915-a11a28e34a9d",
   "metadata": {},
   "outputs": [
    {
     "name": "stdout",
     "output_type": "stream",
     "text": [
      "epoch: 0, accuracy: 0.5, loss: 0.6931471824645996\n",
      "epoch: 1, accuracy: 0.5, loss: 0.6931471824645996\n",
      "epoch: 2, accuracy: 0.5, loss: 0.6931471824645996\n",
      "testing accuracy: 0.5 and loss: 0.6931471824645996\n"
     ]
    }
   ],
   "source": [
    "train(model, points, labels, criterion, optimizer, num_epochs)\n",
    "test(model, points, labels, criterion)"
   ]
  },
  {
   "cell_type": "code",
   "execution_count": 27,
   "id": "e0215532-8b4a-4d23-8715-5ca21973d7c4",
   "metadata": {},
   "outputs": [
    {
     "name": "stdout",
     "output_type": "stream",
     "text": [
      "(((((... + ...) <= 0.0) ? 0.0 : ((... + ...) + w3)) = 0.0) & ((((... + ...) <= 0.0) ? 0.0 : ((... + ...) + w3)) = 0.0) & (0.0 < (((... + ...) <= 0.0) ? 0.0 : ((... + ...) + w3))) & (0.0 < (((... + ...) <= 0.0) ? 0.0 : ((... + ...) + w3))))\n",
      "w1 := 1/2\n",
      "w3 := 0.0\n",
      "w2 := 0.0\n"
     ]
    }
   ],
   "source": [
    "w1 = Symbol(\"w1\", REAL)\n",
    "w2 = Symbol(\"w2\", REAL)\n",
    "w3 = Symbol(\"w3\", REAL)\n",
    "\n",
    "equations = []\n",
    "\n",
    "for (point, label) in zip(points, labels):\n",
    "    x = point[0].item()\n",
    "    y = point[1].item()\n",
    "    calculation = w1 * Real(x) + w2 * Real(y) + w3\n",
    "    relu = Max(calculation, Real(0.0))\n",
    "    \n",
    "    if label.item() == 0.0:\n",
    "        equation = Equals(relu, Real(0.0))\n",
    "    else:\n",
    "        equation = GT(relu, Real(0.0))\n",
    "    equations.append(equation)\n",
    "\n",
    "formula = And(equations)\n",
    "print(formula)\n",
    "\n",
    "solution = get_model(formula)\n",
    "if model:\n",
    "    print(solution)\n",
    "    model.linear.weight.data[0][0] = float(solution[w1].constant_value())\n",
    "    model.linear.weight.data[0][1] = float(solution[w2].constant_value())\n",
    "    model.linear.bias.data[0] = float(solution[w3].constant_value())\n",
    "\n",
    "else:\n",
    "    print(\"No solution found\")"
   ]
  },
  {
   "cell_type": "code",
   "execution_count": 28,
   "id": "2fe637e1",
   "metadata": {},
   "outputs": [
    {
     "name": "stdout",
     "output_type": "stream",
     "text": [
      "testing accuracy: 1.0 and loss: 0.5836120843887329\n"
     ]
    }
   ],
   "source": [
    "test(model, points, labels, criterion)"
   ]
  },
  {
   "cell_type": "code",
   "execution_count": null,
   "id": "c31007e4",
   "metadata": {},
   "outputs": [],
   "source": []
  }
 ],
 "metadata": {
  "kernelspec": {
   "display_name": "Python 3 (ipykernel)",
   "language": "python",
   "name": "python3"
  },
  "language_info": {
   "codemirror_mode": {
    "name": "ipython",
    "version": 3
   },
   "file_extension": ".py",
   "mimetype": "text/x-python",
   "name": "python",
   "nbconvert_exporter": "python",
   "pygments_lexer": "ipython3",
   "version": "3.12.3"
  }
 },
 "nbformat": 4,
 "nbformat_minor": 5
}
